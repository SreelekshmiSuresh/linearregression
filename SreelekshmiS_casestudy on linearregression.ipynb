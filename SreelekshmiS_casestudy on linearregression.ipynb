{
 "cells": [
  {
   "cell_type": "code",
   "execution_count": 2,
   "id": "44bc7524",
   "metadata": {},
   "outputs": [],
   "source": [
    "\n",
    "\n",
    "import numpy as np\n",
    "import pandas as pd\n",
    "import matplotlib.pyplot as plt\n",
    "import seaborn as sns"
   ]
  },
  {
   "cell_type": "code",
   "execution_count": 4,
   "id": "aa2ff494",
   "metadata": {},
   "outputs": [
    {
     "data": {
      "text/html": [
       "<div>\n",
       "<style scoped>\n",
       "    .dataframe tbody tr th:only-of-type {\n",
       "        vertical-align: middle;\n",
       "    }\n",
       "\n",
       "    .dataframe tbody tr th {\n",
       "        vertical-align: top;\n",
       "    }\n",
       "\n",
       "    .dataframe thead th {\n",
       "        text-align: right;\n",
       "    }\n",
       "</style>\n",
       "<table border=\"1\" class=\"dataframe\">\n",
       "  <thead>\n",
       "    <tr style=\"text-align: right;\">\n",
       "      <th></th>\n",
       "      <th>Year</th>\n",
       "      <th>Price</th>\n",
       "    </tr>\n",
       "  </thead>\n",
       "  <tbody>\n",
       "    <tr>\n",
       "      <th>0</th>\n",
       "      <td>2018</td>\n",
       "      <td>465000</td>\n",
       "    </tr>\n",
       "    <tr>\n",
       "      <th>1</th>\n",
       "      <td>2019</td>\n",
       "      <td>755000</td>\n",
       "    </tr>\n",
       "    <tr>\n",
       "      <th>2</th>\n",
       "      <td>2019</td>\n",
       "      <td>700000</td>\n",
       "    </tr>\n",
       "    <tr>\n",
       "      <th>3</th>\n",
       "      <td>2018</td>\n",
       "      <td>465000</td>\n",
       "    </tr>\n",
       "    <tr>\n",
       "      <th>4</th>\n",
       "      <td>2018</td>\n",
       "      <td>465000</td>\n",
       "    </tr>\n",
       "    <tr>\n",
       "      <th>...</th>\n",
       "      <td>...</td>\n",
       "      <td>...</td>\n",
       "    </tr>\n",
       "    <tr>\n",
       "      <th>107</th>\n",
       "      <td>2016</td>\n",
       "      <td>375000</td>\n",
       "    </tr>\n",
       "    <tr>\n",
       "      <th>108</th>\n",
       "      <td>2014</td>\n",
       "      <td>300000</td>\n",
       "    </tr>\n",
       "    <tr>\n",
       "      <th>109</th>\n",
       "      <td>2015</td>\n",
       "      <td>425000</td>\n",
       "    </tr>\n",
       "    <tr>\n",
       "      <th>110</th>\n",
       "      <td>2016</td>\n",
       "      <td>420000</td>\n",
       "    </tr>\n",
       "    <tr>\n",
       "      <th>111</th>\n",
       "      <td>2015</td>\n",
       "      <td>425000</td>\n",
       "    </tr>\n",
       "  </tbody>\n",
       "</table>\n",
       "<p>112 rows × 2 columns</p>\n",
       "</div>"
      ],
      "text/plain": [
       "     Year   Price\n",
       "0    2018  465000\n",
       "1    2019  755000\n",
       "2    2019  700000\n",
       "3    2018  465000\n",
       "4    2018  465000\n",
       "..    ...     ...\n",
       "107  2016  375000\n",
       "108  2014  300000\n",
       "109  2015  425000\n",
       "110  2016  420000\n",
       "111  2015  425000\n",
       "\n",
       "[112 rows x 2 columns]"
      ]
     },
     "execution_count": 4,
     "metadata": {},
     "output_type": "execute_result"
    }
   ],
   "source": [
    "data = pd.read_csv('car_age_price (1).csv')\n",
    "data"
   ]
  },
  {
   "cell_type": "code",
   "execution_count": 5,
   "id": "7b610d30",
   "metadata": {},
   "outputs": [
    {
     "name": "stdout",
     "output_type": "stream",
     "text": [
      "<class 'pandas.core.frame.DataFrame'>\n",
      "RangeIndex: 112 entries, 0 to 111\n",
      "Data columns (total 2 columns):\n",
      " #   Column  Non-Null Count  Dtype\n",
      "---  ------  --------------  -----\n",
      " 0   Year    112 non-null    int64\n",
      " 1   Price   112 non-null    int64\n",
      "dtypes: int64(2)\n",
      "memory usage: 1.9 KB\n"
     ]
    }
   ],
   "source": [
    "data.info()"
   ]
  },
  {
   "cell_type": "code",
   "execution_count": 6,
   "id": "ff3acdc1",
   "metadata": {},
   "outputs": [
    {
     "data": {
      "text/html": [
       "<div>\n",
       "<style scoped>\n",
       "    .dataframe tbody tr th:only-of-type {\n",
       "        vertical-align: middle;\n",
       "    }\n",
       "\n",
       "    .dataframe tbody tr th {\n",
       "        vertical-align: top;\n",
       "    }\n",
       "\n",
       "    .dataframe thead th {\n",
       "        text-align: right;\n",
       "    }\n",
       "</style>\n",
       "<table border=\"1\" class=\"dataframe\">\n",
       "  <thead>\n",
       "    <tr style=\"text-align: right;\">\n",
       "      <th></th>\n",
       "      <th>Year</th>\n",
       "      <th>Price</th>\n",
       "    </tr>\n",
       "  </thead>\n",
       "  <tbody>\n",
       "    <tr>\n",
       "      <th>count</th>\n",
       "      <td>112.000000</td>\n",
       "      <td>112.000000</td>\n",
       "    </tr>\n",
       "    <tr>\n",
       "      <th>mean</th>\n",
       "      <td>2016.669643</td>\n",
       "      <td>483866.044643</td>\n",
       "    </tr>\n",
       "    <tr>\n",
       "      <th>std</th>\n",
       "      <td>1.629616</td>\n",
       "      <td>91217.450533</td>\n",
       "    </tr>\n",
       "    <tr>\n",
       "      <th>min</th>\n",
       "      <td>2013.000000</td>\n",
       "      <td>300000.000000</td>\n",
       "    </tr>\n",
       "    <tr>\n",
       "      <th>25%</th>\n",
       "      <td>2015.000000</td>\n",
       "      <td>423750.000000</td>\n",
       "    </tr>\n",
       "    <tr>\n",
       "      <th>50%</th>\n",
       "      <td>2017.000000</td>\n",
       "      <td>500000.000000</td>\n",
       "    </tr>\n",
       "    <tr>\n",
       "      <th>75%</th>\n",
       "      <td>2017.000000</td>\n",
       "      <td>550000.000000</td>\n",
       "    </tr>\n",
       "    <tr>\n",
       "      <th>max</th>\n",
       "      <td>2020.000000</td>\n",
       "      <td>755000.000000</td>\n",
       "    </tr>\n",
       "  </tbody>\n",
       "</table>\n",
       "</div>"
      ],
      "text/plain": [
       "              Year          Price\n",
       "count   112.000000     112.000000\n",
       "mean   2016.669643  483866.044643\n",
       "std       1.629616   91217.450533\n",
       "min    2013.000000  300000.000000\n",
       "25%    2015.000000  423750.000000\n",
       "50%    2017.000000  500000.000000\n",
       "75%    2017.000000  550000.000000\n",
       "max    2020.000000  755000.000000"
      ]
     },
     "execution_count": 6,
     "metadata": {},
     "output_type": "execute_result"
    }
   ],
   "source": [
    "data.describe()"
   ]
  },
  {
   "cell_type": "code",
   "execution_count": 7,
   "id": "509dba27",
   "metadata": {},
   "outputs": [
    {
     "data": {
      "image/png": "[encoded data removed]",
      "text/plain": [
       "<Figure size 432x288 with 1 Axes>"
      ]
     },
     "metadata": {
      "needs_background": "light"
     },
     "output_type": "display_data"
    }
   ],
   "source": [
    "# Linear relationship between Year and Price\n",
    "\n",
    "sns.scatterplot(x = \"Year\", y = \"Price\",data = data)\n",
    "plt.title(\"Year wise Price\")\n",
    "plt.show()"
   ]
  },
  {
   "cell_type": "code",
   "execution_count": 8,
   "id": "5a81f0cf",
   "metadata": {},
   "outputs": [
    {
     "data": {
      "text/html": [
       "<div>\n",
       "<style scoped>\n",
       "    .dataframe tbody tr th:only-of-type {\n",
       "        vertical-align: middle;\n",
       "    }\n",
       "\n",
       "    .dataframe tbody tr th {\n",
       "        vertical-align: top;\n",
       "    }\n",
       "\n",
       "    .dataframe thead th {\n",
       "        text-align: right;\n",
       "    }\n",
       "</style>\n",
       "<table border=\"1\" class=\"dataframe\">\n",
       "  <thead>\n",
       "    <tr style=\"text-align: right;\">\n",
       "      <th></th>\n",
       "      <th>Year</th>\n",
       "      <th>Price</th>\n",
       "    </tr>\n",
       "  </thead>\n",
       "  <tbody>\n",
       "    <tr>\n",
       "      <th>Year</th>\n",
       "      <td>1.000000</td>\n",
       "      <td>0.776302</td>\n",
       "    </tr>\n",
       "    <tr>\n",
       "      <th>Price</th>\n",
       "      <td>0.776302</td>\n",
       "      <td>1.000000</td>\n",
       "    </tr>\n",
       "  </tbody>\n",
       "</table>\n",
       "</div>"
      ],
      "text/plain": [
       "           Year     Price\n",
       "Year   1.000000  0.776302\n",
       "Price  0.776302  1.000000"
      ]
     },
     "execution_count": 8,
     "metadata": {},
     "output_type": "execute_result"
    }
   ],
   "source": [
    "data.corr() "
   ]
  },
  {
   "cell_type": "code",
   "execution_count": 9,
   "id": "724812aa",
   "metadata": {},
   "outputs": [
    {
     "data": {
      "text/plain": [
       "<seaborn.axisgrid.PairGrid at 0x29c582a0130>"
      ]
     },
     "execution_count": 9,
     "metadata": {},
     "output_type": "execute_result"
    },
    {
     "data": {
      "image/png": "[encoded data removed]",
      "text/plain": [
       "<Figure size 360x360 with 6 Axes>"
      ]
     },
     "metadata": {},
     "output_type": "display_data"
    }
   ],
   "source": [
    "# Visualizing the linear model\n",
    "\n",
    "sns.set_style('darkgrid')\n",
    "sns.pairplot(data)"
   ]
  },
  {
   "cell_type": "code",
   "execution_count": 10,
   "id": "58eedba3",
   "metadata": {},
   "outputs": [
    {
     "data": {
      "image/png": "[encoded data removed]",
      "text/plain": [
       "<Figure size 432x288 with 1 Axes>"
      ]
     },
     "metadata": {},
     "output_type": "display_data"
    }
   ],
   "source": [
    "sns.regplot(x = \"Year\", y = \"Price\", data = data)\n",
    "plt.title(\"Year wise Price\")\n",
    "plt.show()"
   ]
  },
  {
   "cell_type": "code",
   "execution_count": 11,
   "id": "0c24d3fa",
   "metadata": {},
   "outputs": [],
   "source": [
    "X = data['Year']\n",
    "y = data['Price']"
   ]
  },
  {
   "cell_type": "code",
   "execution_count": 12,
   "id": "fd4f78c8",
   "metadata": {},
   "outputs": [],
   "source": [
    "# Reshaping the given data to our expected format to feed into the model\n",
    "\n",
    "X = data['Year'].values.reshape(-1,1)\n",
    "y = data['Price'].values.reshape(-1,1)"
   ]
  },
  {
   "cell_type": "code",
   "execution_count": 16,
   "id": "a95d9e4a",
   "metadata": {},
   "outputs": [
    {
     "name": "stdout",
     "output_type": "stream",
     "text": [
      "X_train [[2017]\n",
      " [2017]\n",
      " [2017]\n",
      " [2017]\n",
      " [2017]\n",
      " [2013]\n",
      " [2016]\n",
      " [2017]\n",
      " [2018]\n",
      " [2017]\n",
      " [2017]\n",
      " [2017]\n",
      " [2015]\n",
      " [2017]\n",
      " [2017]\n",
      " [2019]\n",
      " [2015]\n",
      " [2020]\n",
      " [2020]\n",
      " [2018]\n",
      " [2017]\n",
      " [2013]\n",
      " [2020]\n",
      " [2017]\n",
      " [2015]\n",
      " [2015]\n",
      " [2015]\n",
      " [2020]\n",
      " [2015]\n",
      " [2015]\n",
      " [2018]\n",
      " [2017]\n",
      " [2018]\n",
      " [2014]\n",
      " [2015]\n",
      " [2016]\n",
      " [2015]\n",
      " [2017]\n",
      " [2017]\n",
      " [2019]\n",
      " [2016]\n",
      " [2015]\n",
      " [2019]\n",
      " [2017]\n",
      " [2017]\n",
      " [2017]\n",
      " [2014]\n",
      " [2018]\n",
      " [2015]\n",
      " [2015]\n",
      " [2017]\n",
      " [2016]\n",
      " [2016]\n",
      " [2018]\n",
      " [2017]\n",
      " [2017]\n",
      " [2017]\n",
      " [2015]\n",
      " [2015]\n",
      " [2019]\n",
      " [2017]\n",
      " [2016]\n",
      " [2019]\n",
      " [2015]\n",
      " [2017]\n",
      " [2017]\n",
      " [2014]\n",
      " [2015]\n",
      " [2015]\n",
      " [2015]\n",
      " [2017]\n",
      " [2017]\n",
      " [2017]\n",
      " [2019]\n",
      " [2017]\n",
      " [2019]\n",
      " [2015]\n",
      " [2017]\n",
      " [2017]\n",
      " [2017]\n",
      " [2017]\n",
      " [2017]\n",
      " [2017]\n",
      " [2017]]\n",
      "y_train is [[495000]\n",
      " [525000]\n",
      " [509999]\n",
      " [520000]\n",
      " [520000]\n",
      " [345000]\n",
      " [425000]\n",
      " [550000]\n",
      " [475000]\n",
      " [550000]\n",
      " [520000]\n",
      " [375000]\n",
      " [390000]\n",
      " [550000]\n",
      " [540000]\n",
      " [500000]\n",
      " [300000]\n",
      " [700000]\n",
      " [545000]\n",
      " [465000]\n",
      " [550000]\n",
      " [345000]\n",
      " [600000]\n",
      " [550000]\n",
      " [325000]\n",
      " [400000]\n",
      " [465000]\n",
      " [640000]\n",
      " [350000]\n",
      " [425000]\n",
      " [450000]\n",
      " [550000]\n",
      " [500000]\n",
      " [400000]\n",
      " [320000]\n",
      " [375000]\n",
      " [300000]\n",
      " [520000]\n",
      " [490000]\n",
      " [500000]\n",
      " [396000]\n",
      " [425000]\n",
      " [755000]\n",
      " [520000]\n",
      " [500000]\n",
      " [475000]\n",
      " [400000]\n",
      " [550000]\n",
      " [450000]\n",
      " [325000]\n",
      " [490000]\n",
      " [350000]\n",
      " [420000]\n",
      " [500000]\n",
      " [550000]\n",
      " [520000]\n",
      " [500000]\n",
      " [409999]\n",
      " [434999]\n",
      " [600000]\n",
      " [595000]\n",
      " [550000]\n",
      " [550000]\n",
      " [490000]\n",
      " [575000]\n",
      " [550000]\n",
      " [341000]\n",
      " [400000]\n",
      " [450000]\n",
      " [400000]\n",
      " [520000]\n",
      " [550000]\n",
      " [550000]\n",
      " [525000]\n",
      " [550000]\n",
      " [550000]\n",
      " [390000]\n",
      " [520000]\n",
      " [575000]\n",
      " [480000]\n",
      " [486000]\n",
      " [490000]\n",
      " [550000]\n",
      " [550000]]\n"
     ]
    }
   ],
   "source": [
    "# Dividing the dataset into train and test\n",
    "\n",
    "from sklearn.model_selection import train_test_split\n",
    "X_train, X_test, y_train, y_test = train_test_split(X, y)\n",
    "print('X_train',X_train)\n",
    "print('y_train is',y_train)"
   ]
  },
  {
   "cell_type": "code",
   "execution_count": 17,
   "id": "dc573e47",
   "metadata": {},
   "outputs": [],
   "source": [
    "# Linear regression model\n",
    "\n",
    "from sklearn.linear_model import LinearRegression\n",
    "regressor = LinearRegression()"
   ]
  },
  {
   "cell_type": "code",
   "execution_count": 18,
   "id": "56e2c66f",
   "metadata": {},
   "outputs": [
    {
     "data": {
      "text/plain": [
       "LinearRegression()"
      ]
     },
     "execution_count": 18,
     "metadata": {},
     "output_type": "execute_result"
    }
   ],
   "source": [
    "regressor.fit(X_train, y_train)"
   ]
  },
  {
   "cell_type": "code",
   "execution_count": 19,
   "id": "af07235d",
   "metadata": {},
   "outputs": [],
   "source": [
    "# Predicting the possible price of a 2022 model second-hand grand i10?"
   ]
  },
  {
   "cell_type": "code",
   "execution_count": 20,
   "id": "0e0cfd91",
   "metadata": {},
   "outputs": [
    {
     "name": "stdout",
     "output_type": "stream",
     "text": [
      "The possible price of a 2022 model second-hand grand i10 will be [[716914.80945329]]\n"
     ]
    }
   ],
   "source": [
    "pred = regressor.predict([[2022]])\n",
    "print('The possible price of a 2022 model second-hand grand i10 will be', pred)"
   ]
  },
  {
   "cell_type": "code",
   "execution_count": 21,
   "id": "5b90f9e3",
   "metadata": {},
   "outputs": [],
   "source": [
    "y_pred = regressor.predict(X_test)"
   ]
  },
  {
   "cell_type": "code",
   "execution_count": 22,
   "id": "bbd7a887",
   "metadata": {},
   "outputs": [],
   "source": [
    "# Mean squared error"
   ]
  },
  {
   "cell_type": "code",
   "execution_count": 23,
   "id": "799eb22e",
   "metadata": {},
   "outputs": [
    {
     "name": "stdout",
     "output_type": "stream",
     "text": [
      "The MSE for this model prediction is 3627589887.146531\n"
     ]
    }
   ],
   "source": [
    "from sklearn.metrics import mean_squared_error\n",
    "\n",
    "mse = mean_squared_error(y_test, y_pred)\n",
    "print('The MSE for this model prediction is', mse)"
   ]
  },
  {
   "cell_type": "code",
   "execution_count": 24,
   "id": "b6065eff",
   "metadata": {},
   "outputs": [],
   "source": [
    "# R squared value"
   ]
  },
  {
   "cell_type": "code",
   "execution_count": 25,
   "id": "dd8fa1cd",
   "metadata": {},
   "outputs": [
    {
     "name": "stdout",
     "output_type": "stream",
     "text": [
      "The R squared value for the model is 0.6303765762732791\n"
     ]
    }
   ],
   "source": [
    "from sklearn.metrics import r2_score\n",
    "r_sqr = r2_score(y_test, y_pred)\n",
    "print('The R squared value for the model is',r_sqr)  "
   ]
  },
  {
   "cell_type": "code",
   "execution_count": 26,
   "id": "6dffe7ff",
   "metadata": {},
   "outputs": [],
   "source": [
    "# Lasso Regression Model"
   ]
  },
  {
   "cell_type": "code",
   "execution_count": 27,
   "id": "1ec259a0",
   "metadata": {},
   "outputs": [],
   "source": [
    "from sklearn.linear_model import Lasso"
   ]
  },
  {
   "cell_type": "code",
   "execution_count": 28,
   "id": "630804e7",
   "metadata": {},
   "outputs": [
    {
     "name": "stdout",
     "output_type": "stream",
     "text": [
      "The R squared value for the model is <function r2_score at 0x0000029C5B1AC040>\n",
      "The MSE for this model prediction is 3627587967.65232\n"
     ]
    }
   ],
   "source": [
    "lasso = Lasso()\n",
    "lasso.fit(X_train, y_train)\n",
    "y_pred = lasso.predict(X_test)\n",
    "r2_score(y_test, y_pred)\n",
    "print('The R squared value for the model is',r2_score)\n",
    "mse = mean_squared_error(y_test, y_pred)\n",
    "print('The MSE for this model prediction is', mse)"
   ]
  },
  {
   "cell_type": "markdown",
   "id": "e2f4e76e",
   "metadata": {},
   "source": [
    "When compared to linear regression model the R squared value for Lasso regression is decreased in very small amount and the mean squared error is increased. So in this case Linear regression is performing better."
   ]
  }
 ],
 "metadata": {
  "kernelspec": {
   "display_name": "Python 3 (ipykernel)",
   "language": "python",
   "name": "python3"
  },
  "language_info": {
   "codemirror_mode": {
    "name": "ipython",
    "version": 3
   },
   "file_extension": ".py",
   "mimetype": "text/x-python",
   "name": "python",
   "nbconvert_exporter": "python",
   "pygments_lexer": "ipython3",
   "version": "3.9.12"
  }
 },
 "nbformat": 4,
 "nbformat_minor": 5
}
